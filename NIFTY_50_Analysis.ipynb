{
 "cells": [
  {
   "cell_type": "markdown",
   "id": "aae6da6d",
   "metadata": {},
   "source": [
    "# Exploratory Data Analysis of NIFTY-50 trends(2000-2021)"
   ]
  },
  {
   "cell_type": "markdown",
   "id": "dd86912a",
   "metadata": {},
   "source": [
    "## Introduction\n",
    "<br>\n",
    "\n",
    "#### This project uses the dataset imported from Kaggle. The dataset is available at https://www.kaggle.com/datasets/rohanrao/nifty50-stock-market-data. This dataset includes roughly over 50 csv files, with each csv file representing the records of a company in NIFTY-50. This project contrasts and compares two of them, namely:\n",
    "<br>\n",
    "\n",
    "#### 1. Tata Consultancy Services Ltd. (TCS.csv)\n",
    "#### 2. Reliance Industries Ltd. (RELIANCE.csv)"
   ]
  },
  {
   "cell_type": "markdown",
   "id": "5b4eaa01",
   "metadata": {},
   "source": [
    "## 1. Import Libraries"
   ]
  },
  {
   "cell_type": "code",
   "execution_count": 1,
   "id": "ac568791",
   "metadata": {},
   "outputs": [],
   "source": [
    "import numpy as np\n",
    "import pandas as pd\n",
    "import matplotlib.pyplot as plt\n",
    "import seaborn as sns\n",
    "import plotly.graph_objects as go"
   ]
  },
  {
   "cell_type": "markdown",
   "id": "913ff833",
   "metadata": {},
   "source": [
    "## 2. Load datasets"
   ]
  },
  {
   "cell_type": "code",
   "execution_count": 2,
   "id": "af9dd1c3",
   "metadata": {},
   "outputs": [],
   "source": [
    "# loading the TCS dataset and converting index to datetime type\n",
    "tcs = pd.read_csv('./datasets/TCS.csv', index_col = 'Date', parse_dates = True)"
   ]
  },
  {
   "cell_type": "code",
   "execution_count": 3,
   "id": "4a305cb9",
   "metadata": {},
   "outputs": [
    {
     "data": {
      "text/html": [
       "<div>\n",
       "<style scoped>\n",
       "    .dataframe tbody tr th:only-of-type {\n",
       "        vertical-align: middle;\n",
       "    }\n",
       "\n",
       "    .dataframe tbody tr th {\n",
       "        vertical-align: top;\n",
       "    }\n",
       "\n",
       "    .dataframe thead th {\n",
       "        text-align: right;\n",
       "    }\n",
       "</style>\n",
       "<table border=\"1\" class=\"dataframe\">\n",
       "  <thead>\n",
       "    <tr style=\"text-align: right;\">\n",
       "      <th></th>\n",
       "      <th>Symbol</th>\n",
       "      <th>Series</th>\n",
       "      <th>Prev Close</th>\n",
       "      <th>Open</th>\n",
       "      <th>High</th>\n",
       "      <th>Low</th>\n",
       "      <th>Last</th>\n",
       "      <th>Close</th>\n",
       "      <th>VWAP</th>\n",
       "      <th>Volume</th>\n",
       "      <th>Turnover</th>\n",
       "      <th>Trades</th>\n",
       "      <th>Deliverable Volume</th>\n",
       "      <th>%Deliverble</th>\n",
       "    </tr>\n",
       "    <tr>\n",
       "      <th>Date</th>\n",
       "      <th></th>\n",
       "      <th></th>\n",
       "      <th></th>\n",
       "      <th></th>\n",
       "      <th></th>\n",
       "      <th></th>\n",
       "      <th></th>\n",
       "      <th></th>\n",
       "      <th></th>\n",
       "      <th></th>\n",
       "      <th></th>\n",
       "      <th></th>\n",
       "      <th></th>\n",
       "      <th></th>\n",
       "    </tr>\n",
       "  </thead>\n",
       "  <tbody>\n",
       "    <tr>\n",
       "      <th>2004-08-25</th>\n",
       "      <td>TCS</td>\n",
       "      <td>EQ</td>\n",
       "      <td>850.00</td>\n",
       "      <td>1198.7</td>\n",
       "      <td>1198.7</td>\n",
       "      <td>979.00</td>\n",
       "      <td>985.00</td>\n",
       "      <td>987.95</td>\n",
       "      <td>1008.32</td>\n",
       "      <td>17116372</td>\n",
       "      <td>1.725876e+15</td>\n",
       "      <td>NaN</td>\n",
       "      <td>5206360</td>\n",
       "      <td>0.3042</td>\n",
       "    </tr>\n",
       "    <tr>\n",
       "      <th>2004-08-26</th>\n",
       "      <td>TCS</td>\n",
       "      <td>EQ</td>\n",
       "      <td>987.95</td>\n",
       "      <td>992.0</td>\n",
       "      <td>997.0</td>\n",
       "      <td>975.30</td>\n",
       "      <td>976.85</td>\n",
       "      <td>979.00</td>\n",
       "      <td>985.65</td>\n",
       "      <td>5055400</td>\n",
       "      <td>4.982865e+14</td>\n",
       "      <td>NaN</td>\n",
       "      <td>1294899</td>\n",
       "      <td>0.2561</td>\n",
       "    </tr>\n",
       "    <tr>\n",
       "      <th>2004-08-27</th>\n",
       "      <td>TCS</td>\n",
       "      <td>EQ</td>\n",
       "      <td>979.00</td>\n",
       "      <td>982.4</td>\n",
       "      <td>982.4</td>\n",
       "      <td>958.55</td>\n",
       "      <td>961.20</td>\n",
       "      <td>962.65</td>\n",
       "      <td>969.94</td>\n",
       "      <td>3830750</td>\n",
       "      <td>3.715586e+14</td>\n",
       "      <td>NaN</td>\n",
       "      <td>976527</td>\n",
       "      <td>0.2549</td>\n",
       "    </tr>\n",
       "    <tr>\n",
       "      <th>2004-08-30</th>\n",
       "      <td>TCS</td>\n",
       "      <td>EQ</td>\n",
       "      <td>962.65</td>\n",
       "      <td>969.9</td>\n",
       "      <td>990.0</td>\n",
       "      <td>965.00</td>\n",
       "      <td>986.40</td>\n",
       "      <td>986.75</td>\n",
       "      <td>982.65</td>\n",
       "      <td>3058151</td>\n",
       "      <td>3.005106e+14</td>\n",
       "      <td>NaN</td>\n",
       "      <td>701664</td>\n",
       "      <td>0.2294</td>\n",
       "    </tr>\n",
       "    <tr>\n",
       "      <th>2004-08-31</th>\n",
       "      <td>TCS</td>\n",
       "      <td>EQ</td>\n",
       "      <td>986.75</td>\n",
       "      <td>986.5</td>\n",
       "      <td>990.0</td>\n",
       "      <td>976.00</td>\n",
       "      <td>987.80</td>\n",
       "      <td>988.10</td>\n",
       "      <td>982.18</td>\n",
       "      <td>2649332</td>\n",
       "      <td>2.602133e+14</td>\n",
       "      <td>NaN</td>\n",
       "      <td>695234</td>\n",
       "      <td>0.2624</td>\n",
       "    </tr>\n",
       "  </tbody>\n",
       "</table>\n",
       "</div>"
      ],
      "text/plain": [
       "           Symbol Series  Prev Close    Open    High     Low    Last   Close  \\\n",
       "Date                                                                           \n",
       "2004-08-25    TCS     EQ      850.00  1198.7  1198.7  979.00  985.00  987.95   \n",
       "2004-08-26    TCS     EQ      987.95   992.0   997.0  975.30  976.85  979.00   \n",
       "2004-08-27    TCS     EQ      979.00   982.4   982.4  958.55  961.20  962.65   \n",
       "2004-08-30    TCS     EQ      962.65   969.9   990.0  965.00  986.40  986.75   \n",
       "2004-08-31    TCS     EQ      986.75   986.5   990.0  976.00  987.80  988.10   \n",
       "\n",
       "               VWAP    Volume      Turnover  Trades  Deliverable Volume  \\\n",
       "Date                                                                      \n",
       "2004-08-25  1008.32  17116372  1.725876e+15     NaN             5206360   \n",
       "2004-08-26   985.65   5055400  4.982865e+14     NaN             1294899   \n",
       "2004-08-27   969.94   3830750  3.715586e+14     NaN              976527   \n",
       "2004-08-30   982.65   3058151  3.005106e+14     NaN              701664   \n",
       "2004-08-31   982.18   2649332  2.602133e+14     NaN              695234   \n",
       "\n",
       "            %Deliverble  \n",
       "Date                     \n",
       "2004-08-25       0.3042  \n",
       "2004-08-26       0.2561  \n",
       "2004-08-27       0.2549  \n",
       "2004-08-30       0.2294  \n",
       "2004-08-31       0.2624  "
      ]
     },
     "execution_count": 3,
     "metadata": {},
     "output_type": "execute_result"
    }
   ],
   "source": [
    "tcs.head()"
   ]
  },
  {
   "cell_type": "code",
   "execution_count": 4,
   "id": "401cc907",
   "metadata": {},
   "outputs": [],
   "source": [
    "# loading the Reliance dataset and converting index to datetime type\n",
    "rel = pd.read_csv('./datasets/RELIANCE.csv', index_col = 'Date', parse_dates = True)"
   ]
  },
  {
   "cell_type": "code",
   "execution_count": 5,
   "id": "41241e47",
   "metadata": {},
   "outputs": [
    {
     "data": {
      "text/html": [
       "<div>\n",
       "<style scoped>\n",
       "    .dataframe tbody tr th:only-of-type {\n",
       "        vertical-align: middle;\n",
       "    }\n",
       "\n",
       "    .dataframe tbody tr th {\n",
       "        vertical-align: top;\n",
       "    }\n",
       "\n",
       "    .dataframe thead th {\n",
       "        text-align: right;\n",
       "    }\n",
       "</style>\n",
       "<table border=\"1\" class=\"dataframe\">\n",
       "  <thead>\n",
       "    <tr style=\"text-align: right;\">\n",
       "      <th></th>\n",
       "      <th>Symbol</th>\n",
       "      <th>Series</th>\n",
       "      <th>Prev Close</th>\n",
       "      <th>Open</th>\n",
       "      <th>High</th>\n",
       "      <th>Low</th>\n",
       "      <th>Last</th>\n",
       "      <th>Close</th>\n",
       "      <th>VWAP</th>\n",
       "      <th>Volume</th>\n",
       "      <th>Turnover</th>\n",
       "      <th>Trades</th>\n",
       "      <th>Deliverable Volume</th>\n",
       "      <th>%Deliverble</th>\n",
       "    </tr>\n",
       "    <tr>\n",
       "      <th>Date</th>\n",
       "      <th></th>\n",
       "      <th></th>\n",
       "      <th></th>\n",
       "      <th></th>\n",
       "      <th></th>\n",
       "      <th></th>\n",
       "      <th></th>\n",
       "      <th></th>\n",
       "      <th></th>\n",
       "      <th></th>\n",
       "      <th></th>\n",
       "      <th></th>\n",
       "      <th></th>\n",
       "      <th></th>\n",
       "    </tr>\n",
       "  </thead>\n",
       "  <tbody>\n",
       "    <tr>\n",
       "      <th>2000-01-03</th>\n",
       "      <td>RELIANCE</td>\n",
       "      <td>EQ</td>\n",
       "      <td>233.05</td>\n",
       "      <td>237.50</td>\n",
       "      <td>251.70</td>\n",
       "      <td>237.50</td>\n",
       "      <td>251.70</td>\n",
       "      <td>251.70</td>\n",
       "      <td>249.37</td>\n",
       "      <td>4456424</td>\n",
       "      <td>1.111319e+14</td>\n",
       "      <td>NaN</td>\n",
       "      <td>NaN</td>\n",
       "      <td>NaN</td>\n",
       "    </tr>\n",
       "    <tr>\n",
       "      <th>2000-01-04</th>\n",
       "      <td>RELIANCE</td>\n",
       "      <td>EQ</td>\n",
       "      <td>251.70</td>\n",
       "      <td>258.40</td>\n",
       "      <td>271.85</td>\n",
       "      <td>251.30</td>\n",
       "      <td>271.85</td>\n",
       "      <td>271.85</td>\n",
       "      <td>263.52</td>\n",
       "      <td>9487878</td>\n",
       "      <td>2.500222e+14</td>\n",
       "      <td>NaN</td>\n",
       "      <td>NaN</td>\n",
       "      <td>NaN</td>\n",
       "    </tr>\n",
       "    <tr>\n",
       "      <th>2000-01-05</th>\n",
       "      <td>RELIANCE</td>\n",
       "      <td>EQ</td>\n",
       "      <td>271.85</td>\n",
       "      <td>256.65</td>\n",
       "      <td>287.90</td>\n",
       "      <td>256.65</td>\n",
       "      <td>286.75</td>\n",
       "      <td>282.50</td>\n",
       "      <td>274.79</td>\n",
       "      <td>26833684</td>\n",
       "      <td>7.373697e+14</td>\n",
       "      <td>NaN</td>\n",
       "      <td>NaN</td>\n",
       "      <td>NaN</td>\n",
       "    </tr>\n",
       "    <tr>\n",
       "      <th>2000-01-06</th>\n",
       "      <td>RELIANCE</td>\n",
       "      <td>EQ</td>\n",
       "      <td>282.50</td>\n",
       "      <td>289.00</td>\n",
       "      <td>300.70</td>\n",
       "      <td>289.00</td>\n",
       "      <td>293.50</td>\n",
       "      <td>294.35</td>\n",
       "      <td>295.45</td>\n",
       "      <td>15682286</td>\n",
       "      <td>4.633254e+14</td>\n",
       "      <td>NaN</td>\n",
       "      <td>NaN</td>\n",
       "      <td>NaN</td>\n",
       "    </tr>\n",
       "    <tr>\n",
       "      <th>2000-01-07</th>\n",
       "      <td>RELIANCE</td>\n",
       "      <td>EQ</td>\n",
       "      <td>294.35</td>\n",
       "      <td>295.00</td>\n",
       "      <td>317.90</td>\n",
       "      <td>293.00</td>\n",
       "      <td>314.50</td>\n",
       "      <td>314.55</td>\n",
       "      <td>308.91</td>\n",
       "      <td>19870977</td>\n",
       "      <td>6.138388e+14</td>\n",
       "      <td>NaN</td>\n",
       "      <td>NaN</td>\n",
       "      <td>NaN</td>\n",
       "    </tr>\n",
       "  </tbody>\n",
       "</table>\n",
       "</div>"
      ],
      "text/plain": [
       "              Symbol Series  Prev Close    Open    High     Low    Last  \\\n",
       "Date                                                                      \n",
       "2000-01-03  RELIANCE     EQ      233.05  237.50  251.70  237.50  251.70   \n",
       "2000-01-04  RELIANCE     EQ      251.70  258.40  271.85  251.30  271.85   \n",
       "2000-01-05  RELIANCE     EQ      271.85  256.65  287.90  256.65  286.75   \n",
       "2000-01-06  RELIANCE     EQ      282.50  289.00  300.70  289.00  293.50   \n",
       "2000-01-07  RELIANCE     EQ      294.35  295.00  317.90  293.00  314.50   \n",
       "\n",
       "             Close    VWAP    Volume      Turnover  Trades  \\\n",
       "Date                                                         \n",
       "2000-01-03  251.70  249.37   4456424  1.111319e+14     NaN   \n",
       "2000-01-04  271.85  263.52   9487878  2.500222e+14     NaN   \n",
       "2000-01-05  282.50  274.79  26833684  7.373697e+14     NaN   \n",
       "2000-01-06  294.35  295.45  15682286  4.633254e+14     NaN   \n",
       "2000-01-07  314.55  308.91  19870977  6.138388e+14     NaN   \n",
       "\n",
       "            Deliverable Volume  %Deliverble  \n",
       "Date                                         \n",
       "2000-01-03                 NaN          NaN  \n",
       "2000-01-04                 NaN          NaN  \n",
       "2000-01-05                 NaN          NaN  \n",
       "2000-01-06                 NaN          NaN  \n",
       "2000-01-07                 NaN          NaN  "
      ]
     },
     "execution_count": 5,
     "metadata": {},
     "output_type": "execute_result"
    }
   ],
   "source": [
    "rel.head()"
   ]
  },
  {
   "cell_type": "code",
   "execution_count": 6,
   "id": "a53e357b",
   "metadata": {},
   "outputs": [
    {
     "name": "stdout",
     "output_type": "stream",
     "text": [
      "TCS => Shape : (4139, 14) , Size: 57946\n",
      "Reliance => Shape : (5306, 14) , Size: 74284\n"
     ]
    }
   ],
   "source": [
    "print('TCS => Shape :', tcs.shape, ', Size:', tcs.size)\n",
    "print('Reliance => Shape :', rel.shape, ', Size:', rel.size)"
   ]
  },
  {
   "cell_type": "markdown",
   "id": "d2f7791e",
   "metadata": {},
   "source": [
    "### 3. Dataset Description\n",
    "<br>\n",
    "\n",
    "* Date (Index): The current date\n",
    "* Prev Close: The closing price of the previous date.\n",
    "* Open: The opening price of the date.\n",
    "* High: The highest price achieved for the date.\n",
    "* Low: The lowest price achieved for the date.\n",
    "* Last: The price at which the last stock was traded.\n",
    "* Close: The closing price of the date.\n",
    "* VWAP: The volume-weighted average price (VWAP) is a measurement that shows the average price of a security, adjusted for its volume. It is calculated during a specific trading session by taking the total dollar value of trading in the security and dividing it by the volume of trades.\n",
    "* Volume: The measure of the number of stocks traded on the current date.\n",
    "* Turnover: The total value of stocks traded on the current date.\n",
    "* Trades: No. of trades on the current date.\n",
    "* Deliverable Volume: This is the actual percentage of total trading volume that results in transfer of shares from one account to another’s on the current date.\n",
    "* %Deliverble: Deliverable percentage is (Deliverable quantity / Traded quantity) on the current date."
   ]
  },
  {
   "cell_type": "markdown",
   "id": "22e90927",
   "metadata": {},
   "source": [
    "The differences in the indices of the two datasets suggest that these two don't have all the dates in common. Since we will be comparing them, we need to drop rows from one of them until all the dates are common in both datasets."
   ]
  },
  {
   "cell_type": "code",
   "execution_count": 7,
   "id": "8454130d",
   "metadata": {},
   "outputs": [
    {
     "data": {
      "text/plain": [
       "DatetimeIndex(['2004-08-25', '2004-08-26', '2004-08-27', '2004-08-30',\n",
       "               '2004-08-31', '2004-09-01', '2004-09-02', '2004-09-03',\n",
       "               '2004-09-06', '2004-09-07',\n",
       "               ...\n",
       "               '2021-04-16', '2021-04-19', '2021-04-20', '2021-04-22',\n",
       "               '2021-04-23', '2021-04-26', '2021-04-27', '2021-04-28',\n",
       "               '2021-04-29', '2021-04-30'],\n",
       "              dtype='datetime64[ns]', name='Date', length=4139, freq=None)"
      ]
     },
     "execution_count": 7,
     "metadata": {},
     "output_type": "execute_result"
    }
   ],
   "source": [
    "# using merge operation to only get the indices of shared dates\n",
    "common_dates = pd.merge(tcs, rel, on='Date').index\n",
    "common_dates"
   ]
  },
  {
   "cell_type": "code",
   "execution_count": 8,
   "id": "b9b8e352",
   "metadata": {},
   "outputs": [],
   "source": [
    "# dropping unshared dates\n",
    "tcs = tcs.loc[common_dates, :]\n",
    "rel = rel.loc[common_dates, :]"
   ]
  },
  {
   "cell_type": "code",
   "execution_count": 9,
   "id": "08daf3ee",
   "metadata": {},
   "outputs": [
    {
     "data": {
      "text/plain": [
       "True"
      ]
     },
     "execution_count": 9,
     "metadata": {},
     "output_type": "execute_result"
    }
   ],
   "source": [
    "# checking if all the indices are common\n",
    "(tcs.index == rel.index).all()"
   ]
  },
  {
   "cell_type": "markdown",
   "id": "a6ea2f74",
   "metadata": {},
   "source": [
    "### 4. EDA of TCS and Reliance datasets"
   ]
  },
  {
   "cell_type": "code",
   "execution_count": 10,
   "id": "f4483e6f",
   "metadata": {},
   "outputs": [
    {
     "name": "stdout",
     "output_type": "stream",
     "text": [
      "<class 'pandas.core.frame.DataFrame'>\n",
      "DatetimeIndex: 4139 entries, 2004-08-25 to 2021-04-30\n",
      "Data columns (total 14 columns):\n",
      " #   Column              Non-Null Count  Dtype  \n",
      "---  ------              --------------  -----  \n",
      " 0   Symbol              4139 non-null   object \n",
      " 1   Series              4139 non-null   object \n",
      " 2   Prev Close          4139 non-null   float64\n",
      " 3   Open                4139 non-null   float64\n",
      " 4   High                4139 non-null   float64\n",
      " 5   Low                 4139 non-null   float64\n",
      " 6   Last                4139 non-null   float64\n",
      " 7   Close               4139 non-null   float64\n",
      " 8   VWAP                4139 non-null   float64\n",
      " 9   Volume              4139 non-null   int64  \n",
      " 10  Turnover            4139 non-null   float64\n",
      " 11  Trades              2456 non-null   float64\n",
      " 12  Deliverable Volume  4139 non-null   int64  \n",
      " 13  %Deliverble         4139 non-null   float64\n",
      "dtypes: float64(10), int64(2), object(2)\n",
      "memory usage: 485.0+ KB\n"
     ]
    }
   ],
   "source": [
    "# info about the TCS dataset\n",
    "tcs.info()"
   ]
  },
  {
   "cell_type": "code",
   "execution_count": 11,
   "id": "ba951d95",
   "metadata": {},
   "outputs": [
    {
     "name": "stdout",
     "output_type": "stream",
     "text": [
      "<class 'pandas.core.frame.DataFrame'>\n",
      "DatetimeIndex: 4139 entries, 2004-08-25 to 2021-04-30\n",
      "Data columns (total 14 columns):\n",
      " #   Column              Non-Null Count  Dtype  \n",
      "---  ------              --------------  -----  \n",
      " 0   Symbol              4139 non-null   object \n",
      " 1   Series              4139 non-null   object \n",
      " 2   Prev Close          4139 non-null   float64\n",
      " 3   Open                4139 non-null   float64\n",
      " 4   High                4139 non-null   float64\n",
      " 5   Low                 4139 non-null   float64\n",
      " 6   Last                4139 non-null   float64\n",
      " 7   Close               4139 non-null   float64\n",
      " 8   VWAP                4139 non-null   float64\n",
      " 9   Volume              4139 non-null   int64  \n",
      " 10  Turnover            4139 non-null   float64\n",
      " 11  Trades              2456 non-null   float64\n",
      " 12  Deliverable Volume  4134 non-null   float64\n",
      " 13  %Deliverble         4134 non-null   float64\n",
      "dtypes: float64(11), int64(1), object(2)\n",
      "memory usage: 485.0+ KB\n"
     ]
    }
   ],
   "source": [
    "# info about the Reliance dataset\n",
    "rel.info()"
   ]
  },
  {
   "cell_type": "markdown",
   "id": "293858b8",
   "metadata": {},
   "source": [
    "The above cell suggests that there are some missing values in the these datasets. We will have them removed.\n",
    "<br>\n",
    "\n",
    "*An important thing to note is that if a row is removed from one dataset then the row with that index will have to be removed from the other dataset as well. Thus, we will handling the missing values of these two datasets together.*"
   ]
  },
  {
   "cell_type": "markdown",
   "id": "311e4aa5",
   "metadata": {},
   "source": [
    "#### 4.1. Handling missing values"
   ]
  },
  {
   "cell_type": "code",
   "execution_count": 12,
   "id": "01c40595",
   "metadata": {},
   "outputs": [
    {
     "data": {
      "text/plain": [
       "Symbol                   0\n",
       "Series                   0\n",
       "Prev Close               0\n",
       "Open                     0\n",
       "High                     0\n",
       "Low                      0\n",
       "Last                     0\n",
       "Close                    0\n",
       "VWAP                     0\n",
       "Volume                   0\n",
       "Turnover                 0\n",
       "Trades                1683\n",
       "Deliverable Volume       0\n",
       "%Deliverble              0\n",
       "dtype: int64"
      ]
     },
     "execution_count": 12,
     "metadata": {},
     "output_type": "execute_result"
    }
   ],
   "source": [
    "# columnwise null value count\n",
    "tcs.isnull().sum()"
   ]
  },
  {
   "cell_type": "code",
   "execution_count": 13,
   "id": "63e65d35",
   "metadata": {},
   "outputs": [
    {
     "data": {
      "text/plain": [
       "Symbol                   0\n",
       "Series                   0\n",
       "Prev Close               0\n",
       "Open                     0\n",
       "High                     0\n",
       "Low                      0\n",
       "Last                     0\n",
       "Close                    0\n",
       "VWAP                     0\n",
       "Volume                   0\n",
       "Turnover                 0\n",
       "Trades                1683\n",
       "Deliverable Volume       5\n",
       "%Deliverble              5\n",
       "dtype: int64"
      ]
     },
     "execution_count": 13,
     "metadata": {},
     "output_type": "execute_result"
    }
   ],
   "source": [
    "# columnwise null value count\n",
    "rel.isnull().sum()"
   ]
  },
  {
   "cell_type": "markdown",
   "id": "7986a9f8",
   "metadata": {},
   "source": [
    "A relatively small amount i.e. 5 rows from the Reliance dataset have missing values in either 'Deliverable Volume' or '%Deliverble'. We can just remove them without affecting our analysis."
   ]
  },
  {
   "cell_type": "code",
   "execution_count": 14,
   "id": "c68dafd5",
   "metadata": {},
   "outputs": [
    {
     "data": {
      "text/plain": [
       "DatetimeIndex(['2006-01-18', '2006-01-19', '2006-01-20', '2006-01-23',\n",
       "               '2006-01-24'],\n",
       "              dtype='datetime64[ns]', name='Date', freq=None)"
      ]
     },
     "execution_count": 14,
     "metadata": {},
     "output_type": "execute_result"
    }
   ],
   "source": [
    "# finding all the dates where 'Deliverable Volume' or '%Deliverble' is missing in Reliance dataset\n",
    "nan_dates = rel[rel['%Deliverble'].isna() | rel['Deliverable Volume'].isna()].index\n",
    "nan_dates"
   ]
  },
  {
   "cell_type": "code",
   "execution_count": 15,
   "id": "61d88a51",
   "metadata": {},
   "outputs": [],
   "source": [
    "# dropping the rows where index is in nan_dates\n",
    "tcs.drop(nan_dates, inplace=True)\n",
    "rel.drop(nan_dates, inplace=True)"
   ]
  },
  {
   "cell_type": "code",
   "execution_count": 16,
   "id": "1b6f3308",
   "metadata": {},
   "outputs": [
    {
     "data": {
      "text/plain": [
       "Symbol                   0\n",
       "Series                   0\n",
       "Prev Close               0\n",
       "Open                     0\n",
       "High                     0\n",
       "Low                      0\n",
       "Last                     0\n",
       "Close                    0\n",
       "VWAP                     0\n",
       "Volume                   0\n",
       "Turnover                 0\n",
       "Trades                1678\n",
       "Deliverable Volume       0\n",
       "%Deliverble              0\n",
       "dtype: int64"
      ]
     },
     "execution_count": 16,
     "metadata": {},
     "output_type": "execute_result"
    }
   ],
   "source": [
    "rel.isna().sum()"
   ]
  },
  {
   "cell_type": "code",
   "execution_count": 17,
   "id": "eb1b6ded",
   "metadata": {},
   "outputs": [
    {
     "data": {
      "text/plain": [
       "Symbol                   0\n",
       "Series                   0\n",
       "Prev Close               0\n",
       "Open                     0\n",
       "High                     0\n",
       "Low                      0\n",
       "Last                     0\n",
       "Close                    0\n",
       "VWAP                     0\n",
       "Volume                   0\n",
       "Turnover                 0\n",
       "Trades                1678\n",
       "Deliverable Volume       0\n",
       "%Deliverble              0\n",
       "dtype: int64"
      ]
     },
     "execution_count": 17,
     "metadata": {},
     "output_type": "execute_result"
    }
   ],
   "source": [
    "tcs.isna().sum()"
   ]
  },
  {
   "cell_type": "markdown",
   "id": "6aefc095",
   "metadata": {},
   "source": [
    "To handle the considerable amount of missing values in the Trades column, we first need to examine the dates where this value is missing in both the datasets and take action accordingly."
   ]
  },
  {
   "cell_type": "code",
   "execution_count": 18,
   "id": "3b5ab13e",
   "metadata": {},
   "outputs": [],
   "source": [
    "tcs_missing_trades = tcs[tcs['Trades'].isna()].index\n",
    "rel_missing_trades = rel[tcs['Trades'].isna()].index"
   ]
  },
  {
   "cell_type": "code",
   "execution_count": 19,
   "id": "4b14158b",
   "metadata": {},
   "outputs": [
    {
     "data": {
      "text/plain": [
       "Timedelta('2470 days 00:00:00')"
      ]
     },
     "execution_count": 19,
     "metadata": {},
     "output_type": "execute_result"
    }
   ],
   "source": [
    "tcs_missing_trades[len(tcs_missing_trades)-1] - tcs_missing_trades[0]"
   ]
  },
  {
   "cell_type": "code",
   "execution_count": 20,
   "id": "b82f63e4",
   "metadata": {},
   "outputs": [
    {
     "data": {
      "text/plain": [
       "True"
      ]
     },
     "execution_count": 20,
     "metadata": {},
     "output_type": "execute_result"
    }
   ],
   "source": [
    "(tcs_missing_trades == rel_missing_trades).all()"
   ]
  },
  {
   "cell_type": "markdown",
   "id": "0590b94b",
   "metadata": {},
   "source": [
    "The above cell proves that both the datasets are missing trades value on the same dates."
   ]
  },
  {
   "cell_type": "code",
   "execution_count": 21,
   "id": "ce46635e",
   "metadata": {},
   "outputs": [],
   "source": [
    "tcs.drop(tcs_missing_trades, inplace=True)\n",
    "rel.drop(rel_missing_trades, inplace=True)"
   ]
  },
  {
   "cell_type": "code",
   "execution_count": 22,
   "id": "ce8e8118",
   "metadata": {},
   "outputs": [
    {
     "name": "stdout",
     "output_type": "stream",
     "text": [
      "No. of missing values in TCS dataset: 0\n",
      "No. of missing values in Reliance dataset: 0\n"
     ]
    }
   ],
   "source": [
    "print(\"No. of missing values in TCS dataset:\", tcs.isna().sum().sum())\n",
    "print(\"No. of missing values in Reliance dataset:\", rel.isna().sum().sum())"
   ]
  },
  {
   "cell_type": "markdown",
   "id": "3f0569a9",
   "metadata": {},
   "source": [
    "The data has been cleaned."
   ]
  },
  {
   "cell_type": "markdown",
   "id": "4189244e",
   "metadata": {},
   "source": [
    "## 5. Queries for analysis"
   ]
  },
  {
   "cell_type": "markdown",
   "id": "35fae950",
   "metadata": {},
   "source": [
    "### 5.1 Compare the simple moving averages for both companies(20 days)"
   ]
  },
  {
   "cell_type": "code",
   "execution_count": 23,
   "id": "fa8eb212",
   "metadata": {},
   "outputs": [],
   "source": [
    "# calculating the simple moving average over 20 days for both companies\n",
    "tcs_sma_20 = tcs['Trades'].rolling(20, min_periods=1).mean()\n",
    "rel_sma_20 = rel['Trades'].rolling(20, min_periods=1).mean()"
   ]
  },
  {
   "cell_type": "code",
   "execution_count": 24,
   "id": "636529bf",
   "metadata": {},
   "outputs": [
    {
     "data": {
      "image/png": "[encoded data removed]",
      "text/plain": [
       "<Figure size 432x288 with 1 Axes>"
      ]
     },
     "metadata": {
      "needs_background": "light"
     },
     "output_type": "display_data"
    }
   ],
   "source": [
    "# plotting the simple moving averages for both companies\n",
    "plt.plot(tcs_sma_20, label=\"TCS\")\n",
    "plt.plot(rel_sma_20, label=\"Reliance\")\n",
    "plt.ylabel('Average Trades')\n",
    "plt.xlabel('Year')\n",
    "plt.title('Comparison of Simple Moving Averages(20 days)')\n",
    "plt.legend()\n",
    "plt.show()"
   ]
  },
  {
   "cell_type": "markdown",
   "id": "67cb4c29",
   "metadata": {},
   "source": [
    "### 5.2 Compare the Exponential Moving Average for both companies"
   ]
  },
  {
   "cell_type": "code",
   "execution_count": 25,
   "id": "cd8514ff",
   "metadata": {},
   "outputs": [],
   "source": [
    "# calculating the exponential moving averages for both companies, with a smoothing factor of 0.1\n",
    "tcs_ema_20 = tcs['Trades'].ewm(alpha=0.1, adjust=False).mean()\n",
    "rel_ema_20 = rel['Trades'].ewm(alpha=0.1, adjust=False).mean()"
   ]
  },
  {
   "cell_type": "code",
   "execution_count": 26,
   "id": "c8d00cdf",
   "metadata": {
    "scrolled": true
   },
   "outputs": [
    {
     "data": {
      "image/png": "[encoded data removed]",
      "text/plain": [
       "<Figure size 432x288 with 1 Axes>"
      ]
     },
     "metadata": {
      "needs_background": "light"
     },
     "output_type": "display_data"
    }
   ],
   "source": [
    "# plotting exponential moving averages for both companies\n",
    "plt.plot(tcs_ema_20, label=\"TCS\")\n",
    "plt.plot(rel_ema_20, label=\"Reliance\")\n",
    "plt.ylabel('Average Trades')\n",
    "plt.xlabel('Year')\n",
    "plt.title('Exponential Moving Averages for both companies')\n",
    "plt.legend()\n",
    "plt.show()"
   ]
  },
  {
   "cell_type": "markdown",
   "id": "d70cf744",
   "metadata": {},
   "source": [
    "### 5.3 Calculate and compare the correlation between the opening price and the trades for both companies"
   ]
  },
  {
   "cell_type": "code",
   "execution_count": 27,
   "id": "da73e25c",
   "metadata": {},
   "outputs": [
    {
     "name": "stdout",
     "output_type": "stream",
     "text": [
      "Correlation between TCS's Open and Trades: 0.190\n",
      "Correlation between Reliance's Open and Trades: 0.614\n"
     ]
    }
   ],
   "source": [
    "# calculating correlation between Open column and Trades column\n",
    "tcs_open_trades_corr = tcs['Open'].corr(tcs['Trades'])\n",
    "rel_open_trades_corr = rel['Open'].corr(rel['Trades'])\n",
    "\n",
    "print(\"Correlation between TCS's Open and Trades:\", '%.3f' % tcs_open_trades_corr)\n",
    "print(\"Correlation between Reliance's Open and Trades:\", '%.3f' % rel_open_trades_corr)"
   ]
  },
  {
   "cell_type": "markdown",
   "id": "809dd91b",
   "metadata": {},
   "source": [
    "The above values state that Reliance's opening price and trades are more strongly correlated to each other than that of TCS. So, for Reliance, opening prices and trades go hand in hand."
   ]
  },
  {
   "cell_type": "markdown",
   "id": "644463d5",
   "metadata": {},
   "source": [
    "### 5.4 Calculate and compare the covariance between opening price and the trades for both companies"
   ]
  },
  {
   "cell_type": "code",
   "execution_count": 28,
   "id": "6e609ee2",
   "metadata": {},
   "outputs": [
    {
     "name": "stdout",
     "output_type": "stream",
     "text": [
      "Covariance between TCS's Open and Trades: 5984711.593\n",
      "Covariance between Reliance's Open and Trades: 28691816.110\n"
     ]
    }
   ],
   "source": [
    "# calculating covariance between Open column and Trades column\n",
    "tcs_open_trades_cov = tcs['Open'].cov(tcs['Trades'])\n",
    "rel_open_trades_cov = rel['Open'].cov(rel['Trades'])\n",
    "\n",
    "print(\"Covariance between TCS's Open and Trades:\", '%.3f' % tcs_open_trades_cov)\n",
    "print(\"Covariance between Reliance's Open and Trades:\", '%.3f' % rel_open_trades_cov)"
   ]
  },
  {
   "cell_type": "markdown",
   "id": "e1eff33f",
   "metadata": {},
   "source": [
    "### 5.5 Calculate and compare the correlation between high prices and the volume for both companies"
   ]
  },
  {
   "cell_type": "code",
   "execution_count": 29,
   "id": "c8f86ba6",
   "metadata": {},
   "outputs": [
    {
     "name": "stdout",
     "output_type": "stream",
     "text": [
      "Correlation between TCS's Volume and High: 0.057\n",
      "Correlation between Reliance's Volume and High: 0.563\n"
     ]
    }
   ],
   "source": [
    "# calculating correlation between Volume and High\n",
    "tcs_vol_high_corr = tcs['Volume'].corr(tcs['High'])\n",
    "rel_vol_high_corr = rel['Volume'].corr(rel['High'])\n",
    "\n",
    "print(\"Correlation between TCS's Volume and High:\", '%.3f' % tcs_vol_high_corr)\n",
    "print(\"Correlation between Reliance's Volume and High:\", '%.3f' % rel_vol_high_corr)"
   ]
  },
  {
   "cell_type": "markdown",
   "id": "32fa4edb",
   "metadata": {},
   "source": [
    "### 5.6 Calculate and compare the covariance between high prices and the volume for both companies"
   ]
  },
  {
   "cell_type": "code",
   "execution_count": 30,
   "id": "c4e6f12c",
   "metadata": {},
   "outputs": [
    {
     "name": "stdout",
     "output_type": "stream",
     "text": [
      "Covariance between TCS's Volume and High: 58559886.815\n",
      "Covariance between Reliance's Volume and High: 1274098272.434\n"
     ]
    }
   ],
   "source": [
    "# calculating covariance between Volume and High\n",
    "tcs_vol_high_cov = tcs['Volume'].cov(tcs['High'])\n",
    "rel_vol_high_cov = rel['Volume'].cov(rel['High'])\n",
    "\n",
    "print(\"Covariance between TCS's Volume and High:\", '%.3f' % tcs_vol_high_cov)\n",
    "print(\"Covariance between Reliance's Volume and High:\", '%.3f' % rel_vol_high_cov)"
   ]
  },
  {
   "cell_type": "markdown",
   "id": "2efa74e9",
   "metadata": {},
   "source": [
    "### 5.7 Based on previous data, roughly calculate the probablity of stock prices increasing on a day for both companies."
   ]
  },
  {
   "cell_type": "code",
   "execution_count": 31,
   "id": "f4ed6acd",
   "metadata": {},
   "outputs": [
    {
     "name": "stdout",
     "output_type": "stream",
     "text": [
      "Chances of price increasing on a day for TCS: 49.023%\n",
      "Chances of price increasing on a day for Reliance: 46.743%\n"
     ]
    }
   ],
   "source": [
    "# creating a boolean array where True means that price increased and False otherwise\n",
    "tcs_did_increase = tcs['Close'] > tcs['Open']\n",
    "rel_did_increase = rel['Close'] > rel['Open']\n",
    "\n",
    "print(\"Chances of price increasing on a day for TCS: \", '%.3f' % (tcs_did_increase.sum() / len(tcs_did_increase) * 100), '%', sep=\"\")\n",
    "print(\"Chances of price increasing on a day for Reliance: \", '%.3f' % (rel_did_increase.sum() / len(rel_did_increase) * 100), '%', sep=\"\")"
   ]
  },
  {
   "cell_type": "markdown",
   "id": "f6c700b7",
   "metadata": {},
   "source": [
    "This simple method suggests that TCS is about 1.05x more likely to have their stock prices increased at the end of the day when compared to Reliance."
   ]
  },
  {
   "cell_type": "markdown",
   "id": "a0b7d976",
   "metadata": {},
   "source": [
    "### 5.8 Plot a graph showing the average trades per year for both companies"
   ]
  },
  {
   "cell_type": "code",
   "execution_count": 32,
   "id": "979609b2",
   "metadata": {},
   "outputs": [],
   "source": [
    "# grouping the data by year of index and calculating the mean\n",
    "avg_trades_per_year_tcs = tcs.groupby(tcs.index.year).mean()['Trades']\n",
    "avg_trades_per_year_rel = rel.groupby(rel.index.year).mean()['Trades']"
   ]
  },
  {
   "cell_type": "code",
   "execution_count": 33,
   "id": "3f8b4b58",
   "metadata": {},
   "outputs": [
    {
     "data": {
      "image/png": "[encoded data removed]",
      "text/plain": [
       "<Figure size 432x288 with 1 Axes>"
      ]
     },
     "metadata": {
      "needs_background": "light"
     },
     "output_type": "display_data"
    }
   ],
   "source": [
    "plt.plot(avg_trades_per_year_tcs, label = \"TCS\")\n",
    "plt.plot(avg_trades_per_year_rel, label = \"Reliance\")\n",
    "plt.xlabel('Year')\n",
    "plt.ylabel('Average Trades')\n",
    "plt.title('Average Trades per year')\n",
    "plt.legend()\n",
    "plt.show()"
   ]
  },
  {
   "cell_type": "markdown",
   "id": "b094565e",
   "metadata": {},
   "source": [
    "### 5.9 Plot a graph showing the highest and lowest trades for each year for both companies"
   ]
  },
  {
   "cell_type": "code",
   "execution_count": 34,
   "id": "7b77facc",
   "metadata": {},
   "outputs": [],
   "source": [
    "# grouping data by index's year and getting the max and min values from Trades\n",
    "tcs_max_trades_annual = tcs.groupby(tcs.index.year)['Trades'].max()\n",
    "rel_max_trades_annual = rel.groupby(rel.index.year)['Trades'].max()\n",
    "tcs_min_trades_annual = tcs.groupby(tcs.index.year)['Trades'].min()\n",
    "rel_min_trades_annual = rel.groupby(rel.index.year)['Trades'].min()"
   ]
  },
  {
   "cell_type": "code",
   "execution_count": 35,
   "id": "7bba6559",
   "metadata": {},
   "outputs": [
    {
     "data": {
      "image/png": "[encoded data removed]",
      "text/plain": [
       "<Figure size 432x288 with 1 Axes>"
      ]
     },
     "metadata": {
      "needs_background": "light"
     },
     "output_type": "display_data"
    }
   ],
   "source": [
    "plt.plot(tcs_max_trades_annual, label = \"TCS Max\")\n",
    "plt.plot(rel_max_trades_annual, label = \"Reliance Max\")\n",
    "plt.plot(tcs_min_trades_annual, label = \"TCS Min\")\n",
    "plt.plot(rel_min_trades_annual, label = \"Reliance Min\")\n",
    "plt.xlabel('Year')\n",
    "plt.ylabel('Trades (x10⁶)')\n",
    "plt.title('Highest and Lowest Trades per year')\n",
    "plt.legend()\n",
    "plt.show()"
   ]
  },
  {
   "cell_type": "code",
   "execution_count": 36,
   "id": "c2710822",
   "metadata": {},
   "outputs": [],
   "source": [
    "# tcs.groupby(tcs.index.weekday)['Volume'].sum().plot.pie()"
   ]
  },
  {
   "cell_type": "code",
   "execution_count": 37,
   "id": "5b6fab7b",
   "metadata": {},
   "outputs": [],
   "source": [
    "# tcs['Prev Close'].plot.box()"
   ]
  },
  {
   "cell_type": "code",
   "execution_count": null,
   "id": "ee89e820",
   "metadata": {},
   "outputs": [],
   "source": []
  }
 ],
 "metadata": {
  "kernelspec": {
   "display_name": "Python 3",
   "language": "python",
   "name": "python3"
  },
  "language_info": {
   "codemirror_mode": {
    "name": "ipython",
    "version": 3
   },
   "file_extension": ".py",
   "mimetype": "text/x-python",
   "name": "python",
   "nbconvert_exporter": "python",
   "pygments_lexer": "ipython3",
   "version": "3.10.2"
  }
 },
 "nbformat": 4,
 "nbformat_minor": 5
}
