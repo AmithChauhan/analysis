{
 "cells": [
  {
   "cell_type": "code",
   "execution_count": 39,
   "id": "31572488",
   "metadata": {},
   "outputs": [],
   "source": [
    "import numpy as np\n",
    "import pandas as pd\n",
    "import matplotlib.pyplot as plt\n",
    "import seaborn as sns"
   ]
  },
  {
   "cell_type": "code",
   "execution_count": 73,
   "id": "85457c7e",
   "metadata": {},
   "outputs": [],
   "source": [
    "tcs = pd.read_csv('./datasets/TCS.csv', index_col = 'Date')"
   ]
  },
  {
   "cell_type": "code",
   "execution_count": 74,
   "id": "39ea90ed",
   "metadata": {},
   "outputs": [
    {
     "data": {
      "text/html": [
       "<div>\n",
       "<style scoped>\n",
       "    .dataframe tbody tr th:only-of-type {\n",
       "        vertical-align: middle;\n",
       "    }\n",
       "\n",
       "    .dataframe tbody tr th {\n",
       "        vertical-align: top;\n",
       "    }\n",
       "\n",
       "    .dataframe thead th {\n",
       "        text-align: right;\n",
       "    }\n",
       "</style>\n",
       "<table border=\"1\" class=\"dataframe\">\n",
       "  <thead>\n",
       "    <tr style=\"text-align: right;\">\n",
       "      <th></th>\n",
       "      <th>Symbol</th>\n",
       "      <th>Series</th>\n",
       "      <th>Prev Close</th>\n",
       "      <th>Open</th>\n",
       "      <th>High</th>\n",
       "      <th>Low</th>\n",
       "      <th>Last</th>\n",
       "      <th>Close</th>\n",
       "      <th>VWAP</th>\n",
       "      <th>Volume</th>\n",
       "      <th>Turnover</th>\n",
       "      <th>Trades</th>\n",
       "      <th>Deliverable Volume</th>\n",
       "      <th>%Deliverble</th>\n",
       "    </tr>\n",
       "    <tr>\n",
       "      <th>Date</th>\n",
       "      <th></th>\n",
       "      <th></th>\n",
       "      <th></th>\n",
       "      <th></th>\n",
       "      <th></th>\n",
       "      <th></th>\n",
       "      <th></th>\n",
       "      <th></th>\n",
       "      <th></th>\n",
       "      <th></th>\n",
       "      <th></th>\n",
       "      <th></th>\n",
       "      <th></th>\n",
       "      <th></th>\n",
       "    </tr>\n",
       "  </thead>\n",
       "  <tbody>\n",
       "    <tr>\n",
       "      <th>2004-08-25</th>\n",
       "      <td>TCS</td>\n",
       "      <td>EQ</td>\n",
       "      <td>850.00</td>\n",
       "      <td>1198.7</td>\n",
       "      <td>1198.7</td>\n",
       "      <td>979.00</td>\n",
       "      <td>985.00</td>\n",
       "      <td>987.95</td>\n",
       "      <td>1008.32</td>\n",
       "      <td>17116372</td>\n",
       "      <td>1.725876e+15</td>\n",
       "      <td>NaN</td>\n",
       "      <td>5206360</td>\n",
       "      <td>0.3042</td>\n",
       "    </tr>\n",
       "    <tr>\n",
       "      <th>2004-08-26</th>\n",
       "      <td>TCS</td>\n",
       "      <td>EQ</td>\n",
       "      <td>987.95</td>\n",
       "      <td>992.0</td>\n",
       "      <td>997.0</td>\n",
       "      <td>975.30</td>\n",
       "      <td>976.85</td>\n",
       "      <td>979.00</td>\n",
       "      <td>985.65</td>\n",
       "      <td>5055400</td>\n",
       "      <td>4.982865e+14</td>\n",
       "      <td>NaN</td>\n",
       "      <td>1294899</td>\n",
       "      <td>0.2561</td>\n",
       "    </tr>\n",
       "    <tr>\n",
       "      <th>2004-08-27</th>\n",
       "      <td>TCS</td>\n",
       "      <td>EQ</td>\n",
       "      <td>979.00</td>\n",
       "      <td>982.4</td>\n",
       "      <td>982.4</td>\n",
       "      <td>958.55</td>\n",
       "      <td>961.20</td>\n",
       "      <td>962.65</td>\n",
       "      <td>969.94</td>\n",
       "      <td>3830750</td>\n",
       "      <td>3.715586e+14</td>\n",
       "      <td>NaN</td>\n",
       "      <td>976527</td>\n",
       "      <td>0.2549</td>\n",
       "    </tr>\n",
       "    <tr>\n",
       "      <th>2004-08-30</th>\n",
       "      <td>TCS</td>\n",
       "      <td>EQ</td>\n",
       "      <td>962.65</td>\n",
       "      <td>969.9</td>\n",
       "      <td>990.0</td>\n",
       "      <td>965.00</td>\n",
       "      <td>986.40</td>\n",
       "      <td>986.75</td>\n",
       "      <td>982.65</td>\n",
       "      <td>3058151</td>\n",
       "      <td>3.005106e+14</td>\n",
       "      <td>NaN</td>\n",
       "      <td>701664</td>\n",
       "      <td>0.2294</td>\n",
       "    </tr>\n",
       "    <tr>\n",
       "      <th>2004-08-31</th>\n",
       "      <td>TCS</td>\n",
       "      <td>EQ</td>\n",
       "      <td>986.75</td>\n",
       "      <td>986.5</td>\n",
       "      <td>990.0</td>\n",
       "      <td>976.00</td>\n",
       "      <td>987.80</td>\n",
       "      <td>988.10</td>\n",
       "      <td>982.18</td>\n",
       "      <td>2649332</td>\n",
       "      <td>2.602133e+14</td>\n",
       "      <td>NaN</td>\n",
       "      <td>695234</td>\n",
       "      <td>0.2624</td>\n",
       "    </tr>\n",
       "  </tbody>\n",
       "</table>\n",
       "</div>"
      ],
      "text/plain": [
       "           Symbol Series  Prev Close    Open    High     Low    Last   Close  \\\n",
       "Date                                                                           \n",
       "2004-08-25    TCS     EQ      850.00  1198.7  1198.7  979.00  985.00  987.95   \n",
       "2004-08-26    TCS     EQ      987.95   992.0   997.0  975.30  976.85  979.00   \n",
       "2004-08-27    TCS     EQ      979.00   982.4   982.4  958.55  961.20  962.65   \n",
       "2004-08-30    TCS     EQ      962.65   969.9   990.0  965.00  986.40  986.75   \n",
       "2004-08-31    TCS     EQ      986.75   986.5   990.0  976.00  987.80  988.10   \n",
       "\n",
       "               VWAP    Volume      Turnover  Trades  Deliverable Volume  \\\n",
       "Date                                                                      \n",
       "2004-08-25  1008.32  17116372  1.725876e+15     NaN             5206360   \n",
       "2004-08-26   985.65   5055400  4.982865e+14     NaN             1294899   \n",
       "2004-08-27   969.94   3830750  3.715586e+14     NaN              976527   \n",
       "2004-08-30   982.65   3058151  3.005106e+14     NaN              701664   \n",
       "2004-08-31   982.18   2649332  2.602133e+14     NaN              695234   \n",
       "\n",
       "            %Deliverble  \n",
       "Date                     \n",
       "2004-08-25       0.3042  \n",
       "2004-08-26       0.2561  \n",
       "2004-08-27       0.2549  \n",
       "2004-08-30       0.2294  \n",
       "2004-08-31       0.2624  "
      ]
     },
     "execution_count": 74,
     "metadata": {},
     "output_type": "execute_result"
    }
   ],
   "source": [
    "tcs.head()"
   ]
  },
  {
   "cell_type": "code",
   "execution_count": 42,
   "id": "5ecf6d69",
   "metadata": {},
   "outputs": [],
   "source": [
    "rel = pd.read_csv('./datasets/RELIANCE.csv', index_col = 'Date')"
   ]
  },
  {
   "cell_type": "code",
   "execution_count": 43,
   "id": "40da8fc7",
   "metadata": {},
   "outputs": [
    {
     "data": {
      "text/html": [
       "<div>\n",
       "<style scoped>\n",
       "    .dataframe tbody tr th:only-of-type {\n",
       "        vertical-align: middle;\n",
       "    }\n",
       "\n",
       "    .dataframe tbody tr th {\n",
       "        vertical-align: top;\n",
       "    }\n",
       "\n",
       "    .dataframe thead th {\n",
       "        text-align: right;\n",
       "    }\n",
       "</style>\n",
       "<table border=\"1\" class=\"dataframe\">\n",
       "  <thead>\n",
       "    <tr style=\"text-align: right;\">\n",
       "      <th></th>\n",
       "      <th>Symbol</th>\n",
       "      <th>Series</th>\n",
       "      <th>Prev Close</th>\n",
       "      <th>Open</th>\n",
       "      <th>High</th>\n",
       "      <th>Low</th>\n",
       "      <th>Last</th>\n",
       "      <th>Close</th>\n",
       "      <th>VWAP</th>\n",
       "      <th>Volume</th>\n",
       "      <th>Turnover</th>\n",
       "      <th>Trades</th>\n",
       "      <th>Deliverable Volume</th>\n",
       "      <th>%Deliverble</th>\n",
       "    </tr>\n",
       "    <tr>\n",
       "      <th>Date</th>\n",
       "      <th></th>\n",
       "      <th></th>\n",
       "      <th></th>\n",
       "      <th></th>\n",
       "      <th></th>\n",
       "      <th></th>\n",
       "      <th></th>\n",
       "      <th></th>\n",
       "      <th></th>\n",
       "      <th></th>\n",
       "      <th></th>\n",
       "      <th></th>\n",
       "      <th></th>\n",
       "      <th></th>\n",
       "    </tr>\n",
       "  </thead>\n",
       "  <tbody>\n",
       "    <tr>\n",
       "      <th>2000-01-03</th>\n",
       "      <td>RELIANCE</td>\n",
       "      <td>EQ</td>\n",
       "      <td>233.05</td>\n",
       "      <td>237.50</td>\n",
       "      <td>251.70</td>\n",
       "      <td>237.50</td>\n",
       "      <td>251.70</td>\n",
       "      <td>251.70</td>\n",
       "      <td>249.37</td>\n",
       "      <td>4456424</td>\n",
       "      <td>1.111319e+14</td>\n",
       "      <td>NaN</td>\n",
       "      <td>NaN</td>\n",
       "      <td>NaN</td>\n",
       "    </tr>\n",
       "    <tr>\n",
       "      <th>2000-01-04</th>\n",
       "      <td>RELIANCE</td>\n",
       "      <td>EQ</td>\n",
       "      <td>251.70</td>\n",
       "      <td>258.40</td>\n",
       "      <td>271.85</td>\n",
       "      <td>251.30</td>\n",
       "      <td>271.85</td>\n",
       "      <td>271.85</td>\n",
       "      <td>263.52</td>\n",
       "      <td>9487878</td>\n",
       "      <td>2.500222e+14</td>\n",
       "      <td>NaN</td>\n",
       "      <td>NaN</td>\n",
       "      <td>NaN</td>\n",
       "    </tr>\n",
       "    <tr>\n",
       "      <th>2000-01-05</th>\n",
       "      <td>RELIANCE</td>\n",
       "      <td>EQ</td>\n",
       "      <td>271.85</td>\n",
       "      <td>256.65</td>\n",
       "      <td>287.90</td>\n",
       "      <td>256.65</td>\n",
       "      <td>286.75</td>\n",
       "      <td>282.50</td>\n",
       "      <td>274.79</td>\n",
       "      <td>26833684</td>\n",
       "      <td>7.373697e+14</td>\n",
       "      <td>NaN</td>\n",
       "      <td>NaN</td>\n",
       "      <td>NaN</td>\n",
       "    </tr>\n",
       "    <tr>\n",
       "      <th>2000-01-06</th>\n",
       "      <td>RELIANCE</td>\n",
       "      <td>EQ</td>\n",
       "      <td>282.50</td>\n",
       "      <td>289.00</td>\n",
       "      <td>300.70</td>\n",
       "      <td>289.00</td>\n",
       "      <td>293.50</td>\n",
       "      <td>294.35</td>\n",
       "      <td>295.45</td>\n",
       "      <td>15682286</td>\n",
       "      <td>4.633254e+14</td>\n",
       "      <td>NaN</td>\n",
       "      <td>NaN</td>\n",
       "      <td>NaN</td>\n",
       "    </tr>\n",
       "    <tr>\n",
       "      <th>2000-01-07</th>\n",
       "      <td>RELIANCE</td>\n",
       "      <td>EQ</td>\n",
       "      <td>294.35</td>\n",
       "      <td>295.00</td>\n",
       "      <td>317.90</td>\n",
       "      <td>293.00</td>\n",
       "      <td>314.50</td>\n",
       "      <td>314.55</td>\n",
       "      <td>308.91</td>\n",
       "      <td>19870977</td>\n",
       "      <td>6.138388e+14</td>\n",
       "      <td>NaN</td>\n",
       "      <td>NaN</td>\n",
       "      <td>NaN</td>\n",
       "    </tr>\n",
       "  </tbody>\n",
       "</table>\n",
       "</div>"
      ],
      "text/plain": [
       "              Symbol Series  Prev Close    Open    High     Low    Last  \\\n",
       "Date                                                                      \n",
       "2000-01-03  RELIANCE     EQ      233.05  237.50  251.70  237.50  251.70   \n",
       "2000-01-04  RELIANCE     EQ      251.70  258.40  271.85  251.30  271.85   \n",
       "2000-01-05  RELIANCE     EQ      271.85  256.65  287.90  256.65  286.75   \n",
       "2000-01-06  RELIANCE     EQ      282.50  289.00  300.70  289.00  293.50   \n",
       "2000-01-07  RELIANCE     EQ      294.35  295.00  317.90  293.00  314.50   \n",
       "\n",
       "             Close    VWAP    Volume      Turnover  Trades  \\\n",
       "Date                                                         \n",
       "2000-01-03  251.70  249.37   4456424  1.111319e+14     NaN   \n",
       "2000-01-04  271.85  263.52   9487878  2.500222e+14     NaN   \n",
       "2000-01-05  282.50  274.79  26833684  7.373697e+14     NaN   \n",
       "2000-01-06  294.35  295.45  15682286  4.633254e+14     NaN   \n",
       "2000-01-07  314.55  308.91  19870977  6.138388e+14     NaN   \n",
       "\n",
       "            Deliverable Volume  %Deliverble  \n",
       "Date                                         \n",
       "2000-01-03                 NaN          NaN  \n",
       "2000-01-04                 NaN          NaN  \n",
       "2000-01-05                 NaN          NaN  \n",
       "2000-01-06                 NaN          NaN  \n",
       "2000-01-07                 NaN          NaN  "
      ]
     },
     "execution_count": 43,
     "metadata": {},
     "output_type": "execute_result"
    }
   ],
   "source": [
    "rel.head()"
   ]
  },
  {
   "cell_type": "code",
   "execution_count": 44,
   "id": "a8ed711b",
   "metadata": {},
   "outputs": [],
   "source": [
    "common_dates = pd.merge(tcs, rel, on='Date').index\n",
    "common_dates"
   ]
  },
  {
   "cell_type": "code",
   "execution_count": 46,
   "id": "89b22249",
   "metadata": {},
   "outputs": [],
   "source": [
    "tcs = tcs.loc[common_dates, :]\n",
    "rel = rel.loc[common_dates, :]"
   ]
  },
  {
   "cell_type": "code",
   "execution_count": 47,
   "id": "9ea13c8b",
   "metadata": {},
   "outputs": [
    {
     "data": {
      "text/plain": [
       "Symbol                4139\n",
       "Series                4139\n",
       "Prev Close            4139\n",
       "Open                  4139\n",
       "High                  4139\n",
       "Low                   4139\n",
       "Last                  4139\n",
       "Close                 4139\n",
       "VWAP                  4139\n",
       "Volume                4139\n",
       "Turnover              4139\n",
       "Trades                2456\n",
       "Deliverable Volume    4139\n",
       "%Deliverble           4139\n",
       "dtype: int64"
      ]
     },
     "execution_count": 47,
     "metadata": {},
     "output_type": "execute_result"
    }
   ],
   "source": [
    "tcs.count()"
   ]
  },
  {
   "cell_type": "code",
   "execution_count": 48,
   "id": "3d305749",
   "metadata": {},
   "outputs": [
    {
     "data": {
      "text/plain": [
       "Symbol                4139\n",
       "Series                4139\n",
       "Prev Close            4139\n",
       "Open                  4139\n",
       "High                  4139\n",
       "Low                   4139\n",
       "Last                  4139\n",
       "Close                 4139\n",
       "VWAP                  4139\n",
       "Volume                4139\n",
       "Turnover              4139\n",
       "Trades                2456\n",
       "Deliverable Volume    4134\n",
       "%Deliverble           4134\n",
       "dtype: int64"
      ]
     },
     "execution_count": 48,
     "metadata": {},
     "output_type": "execute_result"
    }
   ],
   "source": [
    "rel.count()"
   ]
  },
  {
   "cell_type": "code",
   "execution_count": 49,
   "id": "508422d7",
   "metadata": {},
   "outputs": [
    {
     "data": {
      "text/plain": [
       "Symbol                   0\n",
       "Series                   0\n",
       "Prev Close               0\n",
       "Open                     0\n",
       "High                     0\n",
       "Low                      0\n",
       "Last                     0\n",
       "Close                    0\n",
       "VWAP                     0\n",
       "Volume                   0\n",
       "Turnover                 0\n",
       "Trades                1683\n",
       "Deliverable Volume       0\n",
       "%Deliverble              0\n",
       "dtype: int64"
      ]
     },
     "execution_count": 49,
     "metadata": {},
     "output_type": "execute_result"
    }
   ],
   "source": [
    "tcs.isna().sum()"
   ]
  },
  {
   "cell_type": "code",
   "execution_count": 50,
   "id": "48985c56",
   "metadata": {},
   "outputs": [
    {
     "data": {
      "text/plain": [
       "Symbol                   0\n",
       "Series                   0\n",
       "Prev Close               0\n",
       "Open                     0\n",
       "High                     0\n",
       "Low                      0\n",
       "Last                     0\n",
       "Close                    0\n",
       "VWAP                     0\n",
       "Volume                   0\n",
       "Turnover                 0\n",
       "Trades                1683\n",
       "Deliverable Volume       5\n",
       "%Deliverble              5\n",
       "dtype: int64"
      ]
     },
     "execution_count": 50,
     "metadata": {},
     "output_type": "execute_result"
    }
   ],
   "source": [
    "rel.isna().sum()"
   ]
  },
  {
   "cell_type": "code",
   "execution_count": 51,
   "id": "719a423f",
   "metadata": {},
   "outputs": [],
   "source": [
    "nan_dates = rel[rel['%Deliverble'].isna() | rel['Deliverable Volume'].isna()].index\n",
    "nan_dates"
   ]
  },
  {
   "cell_type": "code",
   "execution_count": 54,
   "id": "78cfde4c",
   "metadata": {},
   "outputs": [],
   "source": [
    "tcs.drop(nan_dates, inplace=True)\n",
    "rel.drop(nan_dates, inplace=True)"
   ]
  },
  {
   "cell_type": "code",
   "execution_count": 55,
   "id": "a541a605",
   "metadata": {},
   "outputs": [
    {
     "data": {
      "text/plain": [
       "Symbol                4134\n",
       "Series                4134\n",
       "Prev Close            4134\n",
       "Open                  4134\n",
       "High                  4134\n",
       "Low                   4134\n",
       "Last                  4134\n",
       "Close                 4134\n",
       "VWAP                  4134\n",
       "Volume                4134\n",
       "Turnover              4134\n",
       "Trades                2456\n",
       "Deliverable Volume    4134\n",
       "%Deliverble           4134\n",
       "dtype: int64"
      ]
     },
     "execution_count": 55,
     "metadata": {},
     "output_type": "execute_result"
    }
   ],
   "source": [
    "tcs.count()"
   ]
  },
  {
   "cell_type": "code",
   "execution_count": 56,
   "id": "29156612",
   "metadata": {},
   "outputs": [
    {
     "data": {
      "text/plain": [
       "Symbol                4134\n",
       "Series                4134\n",
       "Prev Close            4134\n",
       "Open                  4134\n",
       "High                  4134\n",
       "Low                   4134\n",
       "Last                  4134\n",
       "Close                 4134\n",
       "VWAP                  4134\n",
       "Volume                4134\n",
       "Turnover              4134\n",
       "Trades                2456\n",
       "Deliverable Volume    4134\n",
       "%Deliverble           4134\n",
       "dtype: int64"
      ]
     },
     "execution_count": 56,
     "metadata": {},
     "output_type": "execute_result"
    }
   ],
   "source": [
    "rel.count()"
   ]
  },
  {
   "cell_type": "code",
   "execution_count": 57,
   "id": "bac56e92",
   "metadata": {},
   "outputs": [
    {
     "data": {
      "text/plain": [
       "Symbol                   0\n",
       "Series                   0\n",
       "Prev Close               0\n",
       "Open                     0\n",
       "High                     0\n",
       "Low                      0\n",
       "Last                     0\n",
       "Close                    0\n",
       "VWAP                     0\n",
       "Volume                   0\n",
       "Turnover                 0\n",
       "Trades                1678\n",
       "Deliverable Volume       0\n",
       "%Deliverble              0\n",
       "dtype: int64"
      ]
     },
     "execution_count": 57,
     "metadata": {},
     "output_type": "execute_result"
    }
   ],
   "source": [
    "rel.isna().sum()"
   ]
  },
  {
   "cell_type": "code",
   "execution_count": 58,
   "id": "e6424c3b",
   "metadata": {},
   "outputs": [
    {
     "data": {
      "text/plain": [
       "Symbol                   0\n",
       "Series                   0\n",
       "Prev Close               0\n",
       "Open                     0\n",
       "High                     0\n",
       "Low                      0\n",
       "Last                     0\n",
       "Close                    0\n",
       "VWAP                     0\n",
       "Volume                   0\n",
       "Turnover                 0\n",
       "Trades                1678\n",
       "Deliverable Volume       0\n",
       "%Deliverble              0\n",
       "dtype: int64"
      ]
     },
     "execution_count": 58,
     "metadata": {},
     "output_type": "execute_result"
    }
   ],
   "source": [
    "tcs.isna().sum()"
   ]
  },
  {
   "cell_type": "code",
   "execution_count": 61,
   "id": "36010856",
   "metadata": {},
   "outputs": [],
   "source": [
    "tcs_missing_trades = tcs[tcs['Trades'].isna()].index\n",
    "rel_missing_trades = rel[tcs['Trades'].isna()].index"
   ]
  },
  {
   "cell_type": "code",
   "execution_count": 67,
   "id": "8c51c1dc",
   "metadata": {},
   "outputs": [
    {
     "data": {
      "text/plain": [
       "True"
      ]
     },
     "execution_count": 67,
     "metadata": {},
     "output_type": "execute_result"
    }
   ],
   "source": [
    "(tcs_missing_trades == rel_missing_trades).all()"
   ]
  },
  {
   "cell_type": "code",
   "execution_count": 77,
   "id": "d1807b93",
   "metadata": {},
   "outputs": [
    {
     "name": "stdout",
     "output_type": "stream",
     "text": [
      "8.98 ms ± 765 µs per loop (mean ± std. dev. of 7 runs, 100 loops each)\n"
     ]
    }
   ],
   "source": [
    "%%time"
   ]
  },
  {
   "cell_type": "code",
   "execution_count": 72,
   "id": "40df64b9",
   "metadata": {},
   "outputs": [
    {
     "data": {
      "text/plain": [
       "Index(['Symbol', 'Series', 'Prev Close', 'Open', 'High', 'Low', 'Last',\n",
       "       'Close', 'VWAP', 'Volume', 'Turnover', 'Trades', 'Deliverable Volume',\n",
       "       '%Deliverble'],\n",
       "      dtype='object')"
      ]
     },
     "execution_count": 72,
     "metadata": {},
     "output_type": "execute_result"
    }
   ],
   "source": [
    "tcs.columns"
   ]
  },
  {
   "cell_type": "code",
   "execution_count": null,
   "id": "ece0e87a",
   "metadata": {},
   "outputs": [],
   "source": []
  }
 ],
 "metadata": {
  "kernelspec": {
   "display_name": "Python 3",
   "language": "python",
   "name": "python3"
  },
  "language_info": {
   "codemirror_mode": {
    "name": "ipython",
    "version": 3
   },
   "file_extension": ".py",
   "mimetype": "text/x-python",
   "name": "python",
   "nbconvert_exporter": "python",
   "pygments_lexer": "ipython3",
   "version": "3.10.2"
  }
 },
 "nbformat": 4,
 "nbformat_minor": 5
}
